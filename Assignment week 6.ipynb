{
 "cells": [
  {
   "cell_type": "markdown",
   "metadata": {},
   "source": [
    "# Assignment week 6"
   ]
  },
  {
   "cell_type": "markdown",
   "metadata": {},
   "source": [
    "The aim of this assignment is to predict the category 'Rating' of dresses. A rating with 4 or 5 (> 4) is considered positive and the ones with equal to 3 (=< 3) or less are considered neutral/negative. We will use Naive Bayes algorithm to predict our classification."
   ]
  },
  {
   "cell_type": "code",
   "execution_count": 1,
   "metadata": {},
   "outputs": [],
   "source": [
    "# importing the libraries we are going to use in our notebook\n",
    "import pandas as pd\n",
    "import seaborn as sns\n",
    "import sklearn as sk\n",
    "import pandas as pd\n",
    "import matplotlib.pyplot as plt\n",
    "from sklearn.model_selection import train_test_split "
   ]
  },
  {
   "cell_type": "markdown",
   "metadata": {},
   "source": [
    "## Data pre-processing steps"
   ]
  },
  {
   "cell_type": "markdown",
   "metadata": {},
   "source": [
    "First, we will start with cleaning and sorting the data."
   ]
  },
  {
   "cell_type": "code",
   "execution_count": 2,
   "metadata": {},
   "outputs": [
    {
     "data": {
      "text/html": [
       "<div>\n",
       "<style scoped>\n",
       "    .dataframe tbody tr th:only-of-type {\n",
       "        vertical-align: middle;\n",
       "    }\n",
       "\n",
       "    .dataframe tbody tr th {\n",
       "        vertical-align: top;\n",
       "    }\n",
       "\n",
       "    .dataframe thead th {\n",
       "        text-align: right;\n",
       "    }\n",
       "</style>\n",
       "<table border=\"1\" class=\"dataframe\">\n",
       "  <thead>\n",
       "    <tr style=\"text-align: right;\">\n",
       "      <th></th>\n",
       "      <th>Unnamed: 0</th>\n",
       "      <th>Clothing ID</th>\n",
       "      <th>Age</th>\n",
       "      <th>Title</th>\n",
       "      <th>Review Text</th>\n",
       "      <th>Rating</th>\n",
       "      <th>Recommended IND</th>\n",
       "      <th>Positive Feedback Count</th>\n",
       "      <th>Division Name</th>\n",
       "      <th>Department Name</th>\n",
       "      <th>Class Name</th>\n",
       "    </tr>\n",
       "  </thead>\n",
       "  <tbody>\n",
       "    <tr>\n",
       "      <th>0</th>\n",
       "      <td>0</td>\n",
       "      <td>767</td>\n",
       "      <td>33</td>\n",
       "      <td>NaN</td>\n",
       "      <td>Absolutely wonderful - silky and sexy and comf...</td>\n",
       "      <td>4</td>\n",
       "      <td>1</td>\n",
       "      <td>0</td>\n",
       "      <td>Initmates</td>\n",
       "      <td>Intimate</td>\n",
       "      <td>Intimates</td>\n",
       "    </tr>\n",
       "    <tr>\n",
       "      <th>1</th>\n",
       "      <td>1</td>\n",
       "      <td>1080</td>\n",
       "      <td>34</td>\n",
       "      <td>NaN</td>\n",
       "      <td>Love this dress!  it's sooo pretty.  i happene...</td>\n",
       "      <td>5</td>\n",
       "      <td>1</td>\n",
       "      <td>4</td>\n",
       "      <td>General</td>\n",
       "      <td>Dresses</td>\n",
       "      <td>Dresses</td>\n",
       "    </tr>\n",
       "    <tr>\n",
       "      <th>2</th>\n",
       "      <td>2</td>\n",
       "      <td>1077</td>\n",
       "      <td>60</td>\n",
       "      <td>Some major design flaws</td>\n",
       "      <td>I had such high hopes for this dress and reall...</td>\n",
       "      <td>3</td>\n",
       "      <td>0</td>\n",
       "      <td>0</td>\n",
       "      <td>General</td>\n",
       "      <td>Dresses</td>\n",
       "      <td>Dresses</td>\n",
       "    </tr>\n",
       "    <tr>\n",
       "      <th>3</th>\n",
       "      <td>3</td>\n",
       "      <td>1049</td>\n",
       "      <td>50</td>\n",
       "      <td>My favorite buy!</td>\n",
       "      <td>I love, love, love this jumpsuit. it's fun, fl...</td>\n",
       "      <td>5</td>\n",
       "      <td>1</td>\n",
       "      <td>0</td>\n",
       "      <td>General Petite</td>\n",
       "      <td>Bottoms</td>\n",
       "      <td>Pants</td>\n",
       "    </tr>\n",
       "    <tr>\n",
       "      <th>4</th>\n",
       "      <td>4</td>\n",
       "      <td>847</td>\n",
       "      <td>47</td>\n",
       "      <td>Flattering shirt</td>\n",
       "      <td>This shirt is very flattering to all due to th...</td>\n",
       "      <td>5</td>\n",
       "      <td>1</td>\n",
       "      <td>6</td>\n",
       "      <td>General</td>\n",
       "      <td>Tops</td>\n",
       "      <td>Blouses</td>\n",
       "    </tr>\n",
       "  </tbody>\n",
       "</table>\n",
       "</div>"
      ],
      "text/plain": [
       "   Unnamed: 0  Clothing ID  Age                    Title  \\\n",
       "0           0          767   33                      NaN   \n",
       "1           1         1080   34                      NaN   \n",
       "2           2         1077   60  Some major design flaws   \n",
       "3           3         1049   50         My favorite buy!   \n",
       "4           4          847   47         Flattering shirt   \n",
       "\n",
       "                                         Review Text  Rating  Recommended IND  \\\n",
       "0  Absolutely wonderful - silky and sexy and comf...       4                1   \n",
       "1  Love this dress!  it's sooo pretty.  i happene...       5                1   \n",
       "2  I had such high hopes for this dress and reall...       3                0   \n",
       "3  I love, love, love this jumpsuit. it's fun, fl...       5                1   \n",
       "4  This shirt is very flattering to all due to th...       5                1   \n",
       "\n",
       "   Positive Feedback Count   Division Name Department Name Class Name  \n",
       "0                        0       Initmates        Intimate  Intimates  \n",
       "1                        4         General         Dresses    Dresses  \n",
       "2                        0         General         Dresses    Dresses  \n",
       "3                        0  General Petite         Bottoms      Pants  \n",
       "4                        6         General            Tops    Blouses  "
      ]
     },
     "execution_count": 2,
     "metadata": {},
     "output_type": "execute_result"
    }
   ],
   "source": [
    "# importing dataset and viewing the first 5 items \n",
    "reviews = pd.read_csv('data-clothing-reviews.csv')\n",
    "reviews.head()"
   ]
  },
  {
   "cell_type": "markdown",
   "metadata": {},
   "source": [
    "Some important notes after viewing the dataset: \n",
    "- We would like to filter only on 'Dresses' (Class Name)\n",
    "- We would like to drop all the empty rows (or NaN)"
   ]
  },
  {
   "cell_type": "code",
   "execution_count": 3,
   "metadata": {},
   "outputs": [
    {
     "name": "stderr",
     "output_type": "stream",
     "text": [
      "/opt/anaconda3/lib/python3.7/site-packages/ipykernel_launcher.py:5: SettingWithCopyWarning: \n",
      "A value is trying to be set on a copy of a slice from a DataFrame\n",
      "\n",
      "See the caveats in the documentation: https://pandas.pydata.org/pandas-docs/stable/user_guide/indexing.html#returning-a-view-versus-a-copy\n",
      "  \"\"\"\n"
     ]
    },
    {
     "data": {
      "text/html": [
       "<div>\n",
       "<style scoped>\n",
       "    .dataframe tbody tr th:only-of-type {\n",
       "        vertical-align: middle;\n",
       "    }\n",
       "\n",
       "    .dataframe tbody tr th {\n",
       "        vertical-align: top;\n",
       "    }\n",
       "\n",
       "    .dataframe thead th {\n",
       "        text-align: right;\n",
       "    }\n",
       "</style>\n",
       "<table border=\"1\" class=\"dataframe\">\n",
       "  <thead>\n",
       "    <tr style=\"text-align: right;\">\n",
       "      <th></th>\n",
       "      <th>Unnamed: 0</th>\n",
       "      <th>Clothing ID</th>\n",
       "      <th>Age</th>\n",
       "      <th>Title</th>\n",
       "      <th>Review Text</th>\n",
       "      <th>Rating</th>\n",
       "      <th>Recommended IND</th>\n",
       "      <th>Positive Feedback Count</th>\n",
       "      <th>Division Name</th>\n",
       "      <th>Department Name</th>\n",
       "      <th>Class Name</th>\n",
       "    </tr>\n",
       "  </thead>\n",
       "  <tbody>\n",
       "    <tr>\n",
       "      <th>2</th>\n",
       "      <td>2</td>\n",
       "      <td>1077</td>\n",
       "      <td>60</td>\n",
       "      <td>Some major design flaws</td>\n",
       "      <td>I had such high hopes for this dress and reall...</td>\n",
       "      <td>3</td>\n",
       "      <td>0</td>\n",
       "      <td>0</td>\n",
       "      <td>General</td>\n",
       "      <td>Dresses</td>\n",
       "      <td>Dresses</td>\n",
       "    </tr>\n",
       "    <tr>\n",
       "      <th>5</th>\n",
       "      <td>5</td>\n",
       "      <td>1080</td>\n",
       "      <td>49</td>\n",
       "      <td>Not for the very petite</td>\n",
       "      <td>I love tracy reese dresses, but this one is no...</td>\n",
       "      <td>2</td>\n",
       "      <td>0</td>\n",
       "      <td>4</td>\n",
       "      <td>General</td>\n",
       "      <td>Dresses</td>\n",
       "      <td>Dresses</td>\n",
       "    </tr>\n",
       "    <tr>\n",
       "      <th>8</th>\n",
       "      <td>8</td>\n",
       "      <td>1077</td>\n",
       "      <td>24</td>\n",
       "      <td>Flattering</td>\n",
       "      <td>I love this dress. i usually get an xs but it ...</td>\n",
       "      <td>5</td>\n",
       "      <td>1</td>\n",
       "      <td>0</td>\n",
       "      <td>General</td>\n",
       "      <td>Dresses</td>\n",
       "      <td>Dresses</td>\n",
       "    </tr>\n",
       "    <tr>\n",
       "      <th>9</th>\n",
       "      <td>9</td>\n",
       "      <td>1077</td>\n",
       "      <td>34</td>\n",
       "      <td>Such a fun dress!</td>\n",
       "      <td>I'm 5\"5' and 125 lbs. i ordered the s petite t...</td>\n",
       "      <td>5</td>\n",
       "      <td>1</td>\n",
       "      <td>0</td>\n",
       "      <td>General</td>\n",
       "      <td>Dresses</td>\n",
       "      <td>Dresses</td>\n",
       "    </tr>\n",
       "    <tr>\n",
       "      <th>10</th>\n",
       "      <td>10</td>\n",
       "      <td>1077</td>\n",
       "      <td>53</td>\n",
       "      <td>Dress looks like it's made of cheap material</td>\n",
       "      <td>Dress runs small esp where the zipper area run...</td>\n",
       "      <td>3</td>\n",
       "      <td>0</td>\n",
       "      <td>14</td>\n",
       "      <td>General</td>\n",
       "      <td>Dresses</td>\n",
       "      <td>Dresses</td>\n",
       "    </tr>\n",
       "  </tbody>\n",
       "</table>\n",
       "</div>"
      ],
      "text/plain": [
       "    Unnamed: 0  Clothing ID  Age  \\\n",
       "2            2         1077   60   \n",
       "5            5         1080   49   \n",
       "8            8         1077   24   \n",
       "9            9         1077   34   \n",
       "10          10         1077   53   \n",
       "\n",
       "                                           Title  \\\n",
       "2                        Some major design flaws   \n",
       "5                        Not for the very petite   \n",
       "8                                     Flattering   \n",
       "9                              Such a fun dress!   \n",
       "10  Dress looks like it's made of cheap material   \n",
       "\n",
       "                                          Review Text  Rating  \\\n",
       "2   I had such high hopes for this dress and reall...       3   \n",
       "5   I love tracy reese dresses, but this one is no...       2   \n",
       "8   I love this dress. i usually get an xs but it ...       5   \n",
       "9   I'm 5\"5' and 125 lbs. i ordered the s petite t...       5   \n",
       "10  Dress runs small esp where the zipper area run...       3   \n",
       "\n",
       "    Recommended IND  Positive Feedback Count Division Name Department Name  \\\n",
       "2                 0                        0       General         Dresses   \n",
       "5                 0                        4       General         Dresses   \n",
       "8                 1                        0       General         Dresses   \n",
       "9                 1                        0       General         Dresses   \n",
       "10                0                       14       General         Dresses   \n",
       "\n",
       "   Class Name  \n",
       "2     Dresses  \n",
       "5     Dresses  \n",
       "8     Dresses  \n",
       "9     Dresses  \n",
       "10    Dresses  "
      ]
     },
     "execution_count": 3,
     "metadata": {},
     "output_type": "execute_result"
    }
   ],
   "source": [
    "# Only keep the rows with dresses\n",
    "df_subset = reviews[(reviews[\"Class Name\"] == \"Dresses\")]\n",
    "\n",
    "# Dropping all the NaN and empty cells\n",
    "df_subset.dropna(axis=0,how='any',thresh=None,subset=None,inplace=True)\n",
    "\n",
    "df_subset.head()"
   ]
  },
  {
   "cell_type": "code",
   "execution_count": 4,
   "metadata": {},
   "outputs": [
    {
     "name": "stderr",
     "output_type": "stream",
     "text": [
      "/opt/anaconda3/lib/python3.7/site-packages/ipykernel_launcher.py:8: SettingWithCopyWarning: \n",
      "A value is trying to be set on a copy of a slice from a DataFrame.\n",
      "Try using .loc[row_indexer,col_indexer] = value instead\n",
      "\n",
      "See the caveats in the documentation: https://pandas.pydata.org/pandas-docs/stable/user_guide/indexing.html#returning-a-view-versus-a-copy\n",
      "  \n"
     ]
    }
   ],
   "source": [
    "# Create a column with positive or negative based\n",
    "def positive_or_negative(x):\n",
    "    if(x > 3): \n",
    "        return 'Positive'\n",
    "    else: \n",
    "        return 'Negative'\n",
    "\n",
    "df_subset['Rate'] = df_subset['Rating'].apply(positive_or_negative)"
   ]
  },
  {
   "cell_type": "code",
   "execution_count": 5,
   "metadata": {},
   "outputs": [
    {
     "data": {
      "text/html": [
       "<div>\n",
       "<style scoped>\n",
       "    .dataframe tbody tr th:only-of-type {\n",
       "        vertical-align: middle;\n",
       "    }\n",
       "\n",
       "    .dataframe tbody tr th {\n",
       "        vertical-align: top;\n",
       "    }\n",
       "\n",
       "    .dataframe thead th {\n",
       "        text-align: right;\n",
       "    }\n",
       "</style>\n",
       "<table border=\"1\" class=\"dataframe\">\n",
       "  <thead>\n",
       "    <tr style=\"text-align: right;\">\n",
       "      <th></th>\n",
       "      <th>Clothing ID</th>\n",
       "      <th>Review Text</th>\n",
       "      <th>Rating</th>\n",
       "      <th>Class Name</th>\n",
       "      <th>Rate</th>\n",
       "    </tr>\n",
       "  </thead>\n",
       "  <tbody>\n",
       "    <tr>\n",
       "      <th>2</th>\n",
       "      <td>1077</td>\n",
       "      <td>I had such high hopes for this dress and reall...</td>\n",
       "      <td>3</td>\n",
       "      <td>Dresses</td>\n",
       "      <td>Negative</td>\n",
       "    </tr>\n",
       "    <tr>\n",
       "      <th>5</th>\n",
       "      <td>1080</td>\n",
       "      <td>I love tracy reese dresses, but this one is no...</td>\n",
       "      <td>2</td>\n",
       "      <td>Dresses</td>\n",
       "      <td>Negative</td>\n",
       "    </tr>\n",
       "    <tr>\n",
       "      <th>8</th>\n",
       "      <td>1077</td>\n",
       "      <td>I love this dress. i usually get an xs but it ...</td>\n",
       "      <td>5</td>\n",
       "      <td>Dresses</td>\n",
       "      <td>Positive</td>\n",
       "    </tr>\n",
       "    <tr>\n",
       "      <th>9</th>\n",
       "      <td>1077</td>\n",
       "      <td>I'm 5\"5' and 125 lbs. i ordered the s petite t...</td>\n",
       "      <td>5</td>\n",
       "      <td>Dresses</td>\n",
       "      <td>Positive</td>\n",
       "    </tr>\n",
       "    <tr>\n",
       "      <th>10</th>\n",
       "      <td>1077</td>\n",
       "      <td>Dress runs small esp where the zipper area run...</td>\n",
       "      <td>3</td>\n",
       "      <td>Dresses</td>\n",
       "      <td>Negative</td>\n",
       "    </tr>\n",
       "  </tbody>\n",
       "</table>\n",
       "</div>"
      ],
      "text/plain": [
       "    Clothing ID                                        Review Text  Rating  \\\n",
       "2          1077  I had such high hopes for this dress and reall...       3   \n",
       "5          1080  I love tracy reese dresses, but this one is no...       2   \n",
       "8          1077  I love this dress. i usually get an xs but it ...       5   \n",
       "9          1077  I'm 5\"5' and 125 lbs. i ordered the s petite t...       5   \n",
       "10         1077  Dress runs small esp where the zipper area run...       3   \n",
       "\n",
       "   Class Name      Rate  \n",
       "2     Dresses  Negative  \n",
       "5     Dresses  Negative  \n",
       "8     Dresses  Positive  \n",
       "9     Dresses  Positive  \n",
       "10    Dresses  Negative  "
      ]
     },
     "execution_count": 5,
     "metadata": {},
     "output_type": "execute_result"
    }
   ],
   "source": [
    "# Subsetting the data set to create just one dataset\n",
    "df_subset = df_subset[[\"Clothing ID\",\"Review Text\", \"Rating\", \"Class Name\", \"Rate\"]]\n",
    "df_subset.head()"
   ]
  },
  {
   "cell_type": "code",
   "execution_count": 6,
   "metadata": {},
   "outputs": [
    {
     "data": {
      "text/plain": [
       "Positive    4045\n",
       "Negative    1326\n",
       "Name: Rate, dtype: int64"
      ]
     },
     "execution_count": 6,
     "metadata": {},
     "output_type": "execute_result"
    }
   ],
   "source": [
    "df_subset['Rate'].value_counts()"
   ]
  },
  {
   "cell_type": "markdown",
   "metadata": {},
   "source": [
    "## Text Modeling and Document Feature Matrix"
   ]
  },
  {
   "cell_type": "markdown",
   "metadata": {},
   "source": [
    "Now the data set is ready to use. We are going to create the Document Feature Matrix, which is a document consisting of rows (Document) and colums (different words). \n",
    "\n",
    "The bag of words is a model which treats a document as a collection of words and it counts it. It does that by tokenizing the words, which is the process of breaking a text into words or units. We are going to do so by using CountVectorizer from sklearn.feature_text_extraction library. The CountVectorizer breaks the text into a bag of words and create a dictionary from a series of text and then change them to lower case. Since the text used is English then we are going to use _stopwords for the English language. The stop_words are informative words and frequently used in the English language and therefore will not be counted. Also, we need to convert the text to Unicode and we are going to do so by using astype('U')"
   ]
  },
  {
   "cell_type": "code",
   "execution_count": 7,
   "metadata": {},
   "outputs": [
    {
     "name": "stdout",
     "output_type": "stream",
     "text": [
      "There are 7747 words in the vocabulary. A selection: ['allusion', 'allusione', 'almsot', 'alr', 'alright', 'als', 'altar', 'alter', 'alteration', 'alterations', 'altered', 'altering', 'alternate', 'alternations', 'alternative', 'althetic', 'altho', 'altogether', 'am5', 'amadi']\n"
     ]
    }
   ],
   "source": [
    "# Creating the collection of words (dictionary)\n",
    "from sklearn.feature_extraction.text import CountVectorizer \n",
    "\n",
    "text = df_subset['Review Text'].values.astype('U') \n",
    "vect = CountVectorizer(stop_words='english') \n",
    "vect = vect.fit(text) \n",
    "vect\n",
    "feature_names = vect.get_feature_names() \n",
    "\n",
    "print(f\"There are {len(feature_names)} words in the vocabulary. A selection: {feature_names[500:520]}\")"
   ]
  },
  {
   "cell_type": "markdown",
   "metadata": {},
   "source": [
    "Now, we have a dictionary of words. We are going to create a Document Feature matrix out of it by using the transform method. The transform method transforms a document into a Document Feature Matrix"
   ]
  },
  {
   "cell_type": "code",
   "execution_count": 8,
   "metadata": {},
   "outputs": [
    {
     "name": "stdout",
     "output_type": "stream",
     "text": [
      "  (1, 7)\t1\n",
      "  (3, 71)\t1\n",
      "  (3, 214)\t1\n",
      "  (12, 480)\t1\n",
      "  (13, 200)\t1\n",
      "  (14, 78)\t1\n",
      "  (14, 408)\t1\n",
      "  (14, 420)\t1\n",
      "  (15, 37)\t1\n",
      "  (16, 3)\t1\n",
      "  (16, 44)\t1\n",
      "  (17, 11)\t1\n",
      "  (17, 236)\t1\n",
      "  (18, 54)\t1\n",
      "  (19, 39)\t1\n",
      "  (21, 59)\t1\n",
      "  (21, 216)\t1\n",
      "  (21, 225)\t1\n",
      "  (22, 229)\t1\n",
      "  (23, 102)\t1\n",
      "  (23, 178)\t1\n",
      "  (23, 222)\t1\n",
      "  (23, 243)\t1\n",
      "  (24, 403)\t1\n",
      "  (26, 11)\t2\n",
      "  :\t:\n",
      "  (475, 96)\t1\n",
      "  (475, 455)\t2\n",
      "  (476, 63)\t1\n",
      "  (476, 200)\t1\n",
      "  (476, 334)\t1\n",
      "  (477, 344)\t1\n",
      "  (478, 156)\t1\n",
      "  (479, 216)\t1\n",
      "  (479, 368)\t1\n",
      "  (482, 309)\t2\n",
      "  (484, 130)\t1\n",
      "  (489, 362)\t1\n",
      "  (490, 112)\t1\n",
      "  (492, 11)\t2\n",
      "  (492, 364)\t1\n",
      "  (493, 50)\t1\n",
      "  (493, 480)\t1\n",
      "  (497, 442)\t1\n",
      "  (498, 334)\t1\n",
      "  (499, 11)\t1\n",
      "  (499, 165)\t1\n",
      "  (499, 187)\t1\n",
      "  (499, 219)\t1\n",
      "  (499, 248)\t1\n",
      "  (499, 451)\t1\n"
     ]
    }
   ],
   "source": [
    "# Creates a document feature matrix\n",
    "docu_feat = vect.transform(text) \n",
    "print(docu_feat[0:500,0:500]) "
   ]
  },
  {
   "cell_type": "markdown",
   "metadata": {},
   "source": [
    "## Split the file into a training and a test set - Naive Bayes"
   ]
  },
  {
   "cell_type": "markdown",
   "metadata": {},
   "source": [
    "Now, the Document Feature Matrix is ready. We are going to split our dataset into a training set and a test set to prepare for building our Naive Bayes Model"
   ]
  },
  {
   "cell_type": "code",
   "execution_count": 9,
   "metadata": {},
   "outputs": [],
   "source": [
    "from sklearn.naive_bayes import MultinomialNB\n",
    "\n",
    "# Spliting the data set into training set and test set\n",
    "nb = MultinomialNB()\n",
    "X = docu_feat\n",
    "y = df_subset['Rate'] \n",
    "\n",
    "X_train, X_test, y_train, y_test = train_test_split(X, y, test_size=0.3, random_state=1)\n",
    "\n",
    "# Creating the model\n",
    "nb = nb.fit(X_train, y_train)\n"
   ]
  },
  {
   "cell_type": "markdown",
   "metadata": {},
   "source": [
    "In the code above, we created our Naive Bayes model. The Naive Bayes is an algorithm based on Bayes Theorem. Bayes Theorem calculates the probability of something given that a prior condition related to that event. For example the probability for raining given that it is cloudy.\n",
    "\n",
    "The general formula of Naive Theorem is as follows: $P(A|B) = \\frac{P(B|A) * P(A)}{P(B)} $\n",
    "\n",
    "It means calculating the probability of A given the condition B. How Naive Bayes Algorithm works is that it compares the $ P(A|B) $ vs $ P(B|A) $ and makes the classification based on the higher number.\n",
    "\n",
    "\n",
    "In this case, it is going to be as follows: $ P(Positive Review | Word) $ vs $ P(Neutral/Negative | Word)$ and it makes the classification based on that. Naive Bayes algorithm compares the reviews given the have certain features, in our case \"words\" and makes the classification based on the probability comparison of the two cateogries (positive and negative)\n"
   ]
  },
  {
   "cell_type": "markdown",
   "metadata": {},
   "source": [
    "## Evaluate the performance of the model "
   ]
  },
  {
   "cell_type": "markdown",
   "metadata": {},
   "source": [
    "In the last section, we are going to evaluate the performance of our model"
   ]
  },
  {
   "cell_type": "code",
   "execution_count": 10,
   "metadata": {},
   "outputs": [
    {
     "data": {
      "text/plain": [
       "0.8542183622828784"
      ]
     },
     "execution_count": 10,
     "metadata": {},
     "output_type": "execute_result"
    }
   ],
   "source": [
    "# Creating prediction array with the test set\n",
    "y_test_p = nb.predict(X_test)\n",
    "\n",
    "# Calculating the accuracy on the test set\n",
    "nb.score(X_test, y_test)"
   ]
  },
  {
   "cell_type": "markdown",
   "metadata": {},
   "source": [
    "The accuracy of our model is 85% which is fairly good. Now we are going to create a Confusion Matrix to analyze the classification"
   ]
  },
  {
   "cell_type": "code",
   "execution_count": 11,
   "metadata": {},
   "outputs": [
    {
     "data": {
      "text/plain": [
       "array([[ 238,  168],\n",
       "       [  67, 1139]])"
      ]
     },
     "execution_count": 11,
     "metadata": {},
     "output_type": "execute_result"
    }
   ],
   "source": [
    "# Creating a confusion matrix with the test set\n",
    "from sklearn.metrics import confusion_matrix\n",
    "\n",
    "cm = confusion_matrix(y_test, y_test_p)\n",
    "cm"
   ]
  },
  {
   "cell_type": "code",
   "execution_count": 12,
   "metadata": {},
   "outputs": [
    {
     "data": {
      "text/plain": [
       "array(['Negative', 'Positive'], dtype='<U8')"
      ]
     },
     "execution_count": 12,
     "metadata": {},
     "output_type": "execute_result"
    }
   ],
   "source": [
    "# In order to build the matrix we are going to view the classes of the array first to view the order \n",
    "nb.classes_"
   ]
  },
  {
   "cell_type": "code",
   "execution_count": 13,
   "metadata": {},
   "outputs": [
    {
     "data": {
      "text/html": [
       "<div>\n",
       "<style scoped>\n",
       "    .dataframe tbody tr th:only-of-type {\n",
       "        vertical-align: middle;\n",
       "    }\n",
       "\n",
       "    .dataframe tbody tr th {\n",
       "        vertical-align: top;\n",
       "    }\n",
       "\n",
       "    .dataframe thead th {\n",
       "        text-align: right;\n",
       "    }\n",
       "</style>\n",
       "<table border=\"1\" class=\"dataframe\">\n",
       "  <thead>\n",
       "    <tr style=\"text-align: right;\">\n",
       "      <th></th>\n",
       "      <th>Negative (predicted)</th>\n",
       "      <th>Positive (predicted)</th>\n",
       "    </tr>\n",
       "  </thead>\n",
       "  <tbody>\n",
       "    <tr>\n",
       "      <th>Negative (actual)</th>\n",
       "      <td>238</td>\n",
       "      <td>168</td>\n",
       "    </tr>\n",
       "    <tr>\n",
       "      <th>Positive (actual)</th>\n",
       "      <td>67</td>\n",
       "      <td>1139</td>\n",
       "    </tr>\n",
       "  </tbody>\n",
       "</table>\n",
       "</div>"
      ],
      "text/plain": [
       "                   Negative (predicted)  Positive (predicted)\n",
       "Negative (actual)                   238                   168\n",
       "Positive (actual)                    67                  1139"
      ]
     },
     "execution_count": 13,
     "metadata": {},
     "output_type": "execute_result"
    }
   ],
   "source": [
    "# Creating the confusion matrix\n",
    "conf_matrix = pd.DataFrame(cm, index = [\"Negative (actual)\", \"Positive (actual)\"], columns = [\"Negative (predicted)\", \"Positive (predicted)\"])\n",
    "conf_matrix"
   ]
  },
  {
   "cell_type": "markdown",
   "metadata": {},
   "source": [
    "A calculation of the variables \n",
    "\n",
    "$accuracy = \\frac{238 + 1139}{238 + 168 + 67 + 1139} = 0.85$\n",
    "The accuracy is exactly the same as the knn-score\n",
    "\n",
    "\n",
    "How much of the predicted ‘negative’ is actually negative? \n",
    "\n",
    "recall negative = $\\frac{238}{238 + 168} = 0.59$\n",
    "\n",
    "How much of the predicted ‘positive’ is actually positive? \n",
    "\n",
    "recall positive = $\\frac{1139}{1139 + 67} = 0.94$\n",
    "\n",
    "How much of the positive is actually predict as positive?\n",
    "\n",
    "precision positive = $\\frac{1139}{1139 + 168} = 0.87$\n",
    "\n",
    "How much of the negative is actually predict as negative?\n",
    "\n",
    "precision negative = $\\frac{238}{238 + 67} = 0.87$"
   ]
  },
  {
   "cell_type": "code",
   "execution_count": 14,
   "metadata": {},
   "outputs": [
    {
     "name": "stdout",
     "output_type": "stream",
     "text": [
      "              precision    recall  f1-score   support\n",
      "\n",
      "    Negative       0.78      0.59      0.67       406\n",
      "    Positive       0.87      0.94      0.91      1206\n",
      "\n",
      "    accuracy                           0.85      1612\n",
      "   macro avg       0.83      0.77      0.79      1612\n",
      "weighted avg       0.85      0.85      0.85      1612\n",
      "\n"
     ]
    }
   ],
   "source": [
    "# Calculating the classification report\n",
    "from sklearn.metrics import classification_report\n",
    "print(classification_report(y_test, y_test_p))"
   ]
  },
  {
   "cell_type": "markdown",
   "metadata": {},
   "source": [
    "We are going to fit our trained model into the whole dataset, and take a subset where the model was off and try to analyze the reason."
   ]
  },
  {
   "cell_type": "code",
   "execution_count": 15,
   "metadata": {},
   "outputs": [
    {
     "data": {
      "text/html": [
       "<div>\n",
       "<style scoped>\n",
       "    .dataframe tbody tr th:only-of-type {\n",
       "        vertical-align: middle;\n",
       "    }\n",
       "\n",
       "    .dataframe tbody tr th {\n",
       "        vertical-align: top;\n",
       "    }\n",
       "\n",
       "    .dataframe thead th {\n",
       "        text-align: right;\n",
       "    }\n",
       "</style>\n",
       "<table border=\"1\" class=\"dataframe\">\n",
       "  <thead>\n",
       "    <tr style=\"text-align: right;\">\n",
       "      <th></th>\n",
       "      <th>Clothing ID</th>\n",
       "      <th>Review Text</th>\n",
       "      <th>Rating</th>\n",
       "      <th>Class Name</th>\n",
       "      <th>Rate</th>\n",
       "      <th>Rate_Prediction</th>\n",
       "    </tr>\n",
       "  </thead>\n",
       "  <tbody>\n",
       "    <tr>\n",
       "      <th>12</th>\n",
       "      <td>1095</td>\n",
       "      <td>More and more i find myself reliant on the rev...</td>\n",
       "      <td>5</td>\n",
       "      <td>Dresses</td>\n",
       "      <td>Positive</td>\n",
       "      <td>Negative</td>\n",
       "    </tr>\n",
       "    <tr>\n",
       "      <th>23</th>\n",
       "      <td>1077</td>\n",
       "      <td>Cute little dress fits tts. it is a little hig...</td>\n",
       "      <td>3</td>\n",
       "      <td>Dresses</td>\n",
       "      <td>Negative</td>\n",
       "      <td>Positive</td>\n",
       "    </tr>\n",
       "    <tr>\n",
       "      <th>311</th>\n",
       "      <td>1089</td>\n",
       "      <td>Looks beautiful online but has too much materi...</td>\n",
       "      <td>3</td>\n",
       "      <td>Dresses</td>\n",
       "      <td>Negative</td>\n",
       "      <td>Positive</td>\n",
       "    </tr>\n",
       "    <tr>\n",
       "      <th>383</th>\n",
       "      <td>1104</td>\n",
       "      <td>This dress is not what i expected. the bottom ...</td>\n",
       "      <td>3</td>\n",
       "      <td>Dresses</td>\n",
       "      <td>Negative</td>\n",
       "      <td>Positive</td>\n",
       "    </tr>\n",
       "    <tr>\n",
       "      <th>417</th>\n",
       "      <td>1083</td>\n",
       "      <td>I love byron lars dresses, and this design is ...</td>\n",
       "      <td>2</td>\n",
       "      <td>Dresses</td>\n",
       "      <td>Negative</td>\n",
       "      <td>Positive</td>\n",
       "    </tr>\n",
       "  </tbody>\n",
       "</table>\n",
       "</div>"
      ],
      "text/plain": [
       "     Clothing ID                                        Review Text  Rating  \\\n",
       "12          1095  More and more i find myself reliant on the rev...       5   \n",
       "23          1077  Cute little dress fits tts. it is a little hig...       3   \n",
       "311         1089  Looks beautiful online but has too much materi...       3   \n",
       "383         1104  This dress is not what i expected. the bottom ...       3   \n",
       "417         1083  I love byron lars dresses, and this design is ...       2   \n",
       "\n",
       "    Class Name      Rate Rate_Prediction  \n",
       "12     Dresses  Positive        Negative  \n",
       "23     Dresses  Negative        Positive  \n",
       "311    Dresses  Negative        Positive  \n",
       "383    Dresses  Negative        Positive  \n",
       "417    Dresses  Negative        Positive  "
      ]
     },
     "execution_count": 15,
     "metadata": {},
     "output_type": "execute_result"
    }
   ],
   "source": [
    "df_subset[\"Rate_Prediction\"] = nb.predict(X)\n",
    "df_contradictions = df_subset[df_subset[\"Rate\"] != df_subset[\"Rate_Prediction\"]]\n",
    "df_contradictions.head()"
   ]
  },
  {
   "cell_type": "code",
   "execution_count": 17,
   "metadata": {},
   "outputs": [
    {
     "name": "stdout",
     "output_type": "stream",
     "text": [
      "For item number: 1\n",
      "The review text we have is:\n",
      "More and more i find myself reliant on the reviews written by savvy shoppers before me and for the most past, they are right on in their estimation of the product. in the case of this dress-if it had not been for the reveiws-i doubt i would have even tried this. the dress is beautifully made, lined and reminiscent of the old retailer quality. it is lined in the solid periwinkle-colored fabric that matches the outer fabric print. tts and very form-fitting. falls just above the knee and does not rid\n",
      "\n",
      "The actual Score for this review is:\n",
      "5\n",
      "\n",
      "The actual Rating Category for this review is:\n",
      "Positive\n",
      "\n",
      "The Predicted Category for this review is:\n",
      "Negative\n",
      "\n",
      "\n",
      "For item number: 2\n",
      "The review text we have is:\n",
      "Cute little dress fits tts. it is a little high waisted. good length for my 5'9 height. i like the dress, i'm just not in love with it. i dont think it looks or feels cheap. it appears just as pictured.\n",
      "\n",
      "The actual Score for this review is:\n",
      "3\n",
      "\n",
      "The actual Rating Category for this review is:\n",
      "Negative\n",
      "\n",
      "The Predicted Category for this review is:\n",
      "Positive\n",
      "\n",
      "\n",
      "For item number: 3\n",
      "The review text we have is:\n",
      "Looks beautiful online but has too much material and the zipper catches on the lace. also runs very large, i am normally a small but would need and xs in this dress\n",
      "\n",
      "The actual Score for this review is:\n",
      "3\n",
      "\n",
      "The actual Rating Category for this review is:\n",
      "Negative\n",
      "\n",
      "The Predicted Category for this review is:\n",
      "Positive\n",
      "\n",
      "\n"
     ]
    }
   ],
   "source": [
    "for i in range(0,3):\n",
    "    print(f\"For item number: {i+1}\")\n",
    "    print(f\"The review text we have is:\\n{df_contradictions.iloc[i,1]}\\n\")\n",
    "    print(f\"The actual Score for this review is:\\n{df_contradictions.iloc[i,2]}\\n\")\n",
    "    print(f\"The actual Rating Category for this review is:\\n{df_contradictions.iloc[i,4]}\\n\")\n",
    "    print(f\"The Predicted Category for this review is:\\n{df_contradictions.iloc[i,5]}\\n\\n\")"
   ]
  },
  {
   "cell_type": "markdown",
   "metadata": {},
   "source": [
    "With the look at the first 3 cases, we can see that the prediciton was off due to the fact that those reviews contains word such as \"Love\", \"Beautiful\". But at the same time, w \n",
    "\n",
    "And our model assumed that the probability of these words occuring in the text is most likely to be a positive review."
   ]
  }
 ],
 "metadata": {
  "kernelspec": {
   "display_name": "Python 3",
   "language": "python",
   "name": "python3"
  },
  "language_info": {
   "codemirror_mode": {
    "name": "ipython",
    "version": 3
   },
   "file_extension": ".py",
   "mimetype": "text/x-python",
   "name": "python",
   "nbconvert_exporter": "python",
   "pygments_lexer": "ipython3",
   "version": "3.7.6"
  }
 },
 "nbformat": 4,
 "nbformat_minor": 4
}
